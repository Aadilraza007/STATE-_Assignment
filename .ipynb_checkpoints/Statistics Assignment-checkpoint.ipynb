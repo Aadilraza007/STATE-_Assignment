{
 "cells": [
  {
   "cell_type": "code",
   "execution_count": 1,
   "id": "a7a69213-3636-4d5a-bb80-0ffe7b76b6c3",
   "metadata": {},
   "outputs": [],
   "source": [
    "#1. Generate a list of 100 integers containing values between 90 to 130 and store it in the variable `int_list`. \n",
    "# After generating the list, find the following:\n",
    "\n",
    "\n",
    "#(i) Write a Python function to calculate the mean of a given list of numbers.\n",
    "#Create a function to find the median of a list of numbers.\n",
    "# (ii) Develop a program to compute the mode of a list of integers\n",
    "#(iii) Implement a function to calculate the weighted mean of a list of values and their corresponding weights.\n",
    "#(iv) Write a Python function to find the geometric mean of a list of positive numbers\n",
    "#(v) Create a program to calculate the harmonic mean of a list of values.\n",
    "#(vi) Build a function to determine the midrange of a list of numbers (average of the minimum and maximum).\n",
    "## (vii) Implement a Python program to find the trimmed mean of a list, excluding a certain percentage of outliers."
   ]
  },
  {
   "cell_type": "code",
   "execution_count": 2,
   "id": "1c511f03-fd1e-4918-bf08-f1cb788e33f2",
   "metadata": {},
   "outputs": [
    {
     "data": {
      "text/plain": [
       "array([ 91,  97, 103, 113, 102, 108, 105, 115,  99,  93, 104, 111, 129,\n",
       "       104, 126, 118, 107, 105, 100, 114, 100, 109,  97, 111,  91, 107,\n",
       "        90, 127, 115, 108, 108,  93,  91, 108,  93, 125, 116, 117, 100,\n",
       "       125, 123,  92, 102, 116, 110, 122,  93,  97, 127, 104,  96, 109,\n",
       "       121, 100, 109, 117, 121, 129, 118,  91, 106,  97, 106, 113, 117,\n",
       "       113, 106, 124, 127, 128, 110,  93, 101, 110, 127, 127, 109, 122,\n",
       "       103,  98, 112,  97, 120, 123, 115, 101, 127, 124,  94, 103, 109,\n",
       "       121, 115, 116, 105, 125,  91,  96, 102, 124])"
      ]
     },
     "execution_count": 2,
     "metadata": {},
     "output_type": "execute_result"
    }
   ],
   "source": [
    "import numpy as np\n",
    "#Generating a list of 100 integers containing values between 90 to 130 and store it in the variable `int_list`\n",
    "\n",
    "int_list=np.random.randint(90,130,100)\n",
    "int_list"
   ]
  },
  {
   "cell_type": "code",
   "execution_count": 11,
   "id": "b00d089a-ccfb-41be-8b5b-2695260aadb1",
   "metadata": {},
   "outputs": [
    {
     "name": "stdout",
     "output_type": "stream",
     "text": [
      "mean of a given list: 108.99\n",
      "median of given list: 109.5\n"
     ]
    }
   ],
   "source": [
    "#(i) Write a Python function to calculate the mean of a given list of numbers.\n",
    "\n",
    "print('mean of a given list:',np.mean(int_list))\n",
    "print('median of given list:',np.median(int_list))"
   ]
  },
  {
   "cell_type": "code",
   "execution_count": 12,
   "id": "882ffbd6-d26f-4d2c-805c-d45f6ed228dc",
   "metadata": {},
   "outputs": [
    {
     "data": {
      "text/plain": [
       "107"
      ]
     },
     "execution_count": 12,
     "metadata": {},
     "output_type": "execute_result"
    }
   ],
   "source": [
    "# (ii) Develop a program to compute the mode of a list of integers\n",
    "\n",
    "import statistics\n",
    "\n",
    "statistics.mode(int_list)"
   ]
  },
  {
   "cell_type": "code",
   "execution_count": 26,
   "id": "04ac73ba-d57f-439f-8bf1-a05a9a20caa3",
   "metadata": {},
   "outputs": [
    {
     "data": {
      "text/plain": [
       "108.63721804511279"
      ]
     },
     "execution_count": 26,
     "metadata": {},
     "output_type": "execute_result"
    }
   ],
   "source": [
    "#(iii) Implement a function to calculate the weighted mean of a list of values and their corresponding weights\n",
    "\n",
    "# Calculate the weighted mean of a list of values and their corresponding weights\n",
    "\n",
    "weights= np.random.randint(1,10,100)\n",
    "\n",
    "def weighted_mean(values, weights):\n",
    "    \n",
    "    weighted_sum=sum(value * weight for value, weight in zip(values, weights))\n",
    "    total_weight= sum(weights)\n",
    "    return weighted_sum/ total_weight\n",
    "\n",
    "\n",
    "w_mean = weighted_mean(int_list, weights)\n",
    "w_mean\n",
    "\n"
   ]
  },
  {
   "cell_type": "code",
   "execution_count": 27,
   "id": "a280687b-e16a-479c-bfea-331018c66ed2",
   "metadata": {},
   "outputs": [
    {
     "data": {
      "text/plain": [
       "108.47336767370524"
      ]
     },
     "execution_count": 27,
     "metadata": {},
     "output_type": "execute_result"
    }
   ],
   "source": [
    "#(iv) Write a Python function to find the geometric mean of a list of positive numbers.\n",
    "\n",
    "#all numbers are postive so just finding the geometric mean directly...\n",
    "from scipy.stats import gmean\n",
    "\n",
    "gmean(int_list)\n",
    "\n",
    "\n",
    "    \n",
    "\n",
    "\n"
   ]
  },
  {
   "cell_type": "code",
   "execution_count": 28,
   "id": "dfc7f87f-bde9-42aa-9f9c-ba4baece28d5",
   "metadata": {},
   "outputs": [
    {
     "data": {
      "text/plain": [
       "107.95401699338586"
      ]
     },
     "execution_count": 28,
     "metadata": {},
     "output_type": "execute_result"
    }
   ],
   "source": [
    "#(v) Create a program to calculate the harmonic mean of a list of values.\n",
    "\n",
    "from scipy.stats import hmean\n",
    "\n",
    "hmean(int_list)\n"
   ]
  },
  {
   "cell_type": "code",
   "execution_count": 29,
   "id": "b3defcdd-497b-43bf-8615-2c7dc0dd8a43",
   "metadata": {},
   "outputs": [
    {
     "name": "stdout",
     "output_type": "stream",
     "text": [
      "midrange number: 154.0\n"
     ]
    }
   ],
   "source": [
    "#(vi) Build a function to determine the midrange of a list of numbers (average of the minimum and maximum).\n",
    "\n",
    "\n",
    "def midrange(numbers):\n",
    "    return (min(numbers)+ max(numbers) / 2)\n",
    "\n",
    "print('midrange number:',midrange(int_list))\n"
   ]
  },
  {
   "cell_type": "code",
   "execution_count": 37,
   "id": "08ef5d37-d7df-4928-9bd8-29193fed37d5",
   "metadata": {},
   "outputs": [
    {
     "name": "stdout",
     "output_type": "stream",
     "text": [
      "The trimmed mean is: 108.9875\n"
     ]
    }
   ],
   "source": [
    "#(vii) Implement a Python program to find the trimmed mean of a list, excluding a certain percentage of outliers.\n",
    "\n",
    "from scipy.stats import trim_mean\n",
    "\n",
    "\n",
    "def trimmed_mean(int_list, percentage_outliers):\n",
    "    return trim_mean(int_list,percentage_outliers)\n",
    "\n",
    "\n",
    "# Calculate the trimmed mean, excluding 10% of the values from both ends\n",
    "\n",
    "trimmed_mean_value = trimmed_mean(int_list, 0.1)\n",
    "\n",
    "print(f\"The trimmed mean is: {trimmed_mean_value}\")"
   ]
  },
  {
   "cell_type": "code",
   "execution_count": 38,
   "id": "18be12ca-4528-4ebe-9a6f-af900337b055",
   "metadata": {},
   "outputs": [],
   "source": [
    "#2. Generate a list of 500 integers containing values between 200 to 300 and store it in the variable `int_list2`. \n",
    "# After generating the list, find the following:\n",
    "\n",
    "\n",
    "\n",
    "#(i) Compare the given list of visualization for the given data:\n",
    " #1. Frequency & Gaussian distribution\n",
    " #2. Frequency smoothened KDE plot\n",
    " #3. Gaussian distribution & smoothened KDE plot\n",
    "    \n",
    "#(ii) Write a Python function to calculate the range of a given list of numbers.\n",
    "#(iii) Create a program to find the variance and standard deviation of a list of numbers\n",
    "#(iv) Implement a function to compute the interquartile range (IQR) of a list of values.\n",
    "#(v) Build a program to calculate the coefficient of variation for a dataset.\n",
    "#(vi) Write a Python function to find the mean absolute deviation (MAD) of a list of numbers.\n",
    "#(vii) Create a program to calculate the quartile deviation of a list of values.\n",
    "#(viii) Implement a function to find the range-based coefficient of dispersion for a dataset."
   ]
  },
  {
   "cell_type": "code",
   "execution_count": 41,
   "id": "df7c54f3-e849-4e97-a7d3-e65a3b1f0331",
   "metadata": {},
   "outputs": [
    {
     "data": {
      "text/plain": [
       "array([226, 207, 241, 268, 264, 222, 213, 219, 265, 209, 205, 209, 288,\n",
       "       287, 291, 202, 265, 295, 201, 291, 277, 249, 295, 284, 295, 211,\n",
       "       228, 215, 234, 225, 251, 245, 294, 270, 254, 255, 203, 253, 271,\n",
       "       234, 276, 284, 267, 248, 272, 272, 249, 294, 267, 218, 230, 249,\n",
       "       270, 217, 252, 292, 286, 266, 283, 237, 208, 216, 213, 294, 278,\n",
       "       243, 268, 260, 228, 280, 257, 243, 287, 227, 268, 270, 241, 202,\n",
       "       258, 203, 282, 267, 279, 208, 294, 263, 245, 254, 227, 255, 213,\n",
       "       288, 287, 270, 234, 265, 230, 277, 243, 253, 217, 216, 279, 280,\n",
       "       253, 290, 261, 286, 277, 212, 224, 219, 214, 226, 233, 285, 205,\n",
       "       275, 275, 214, 280, 282, 273, 226, 271, 220, 228, 291, 222, 204,\n",
       "       200, 235, 208, 290, 256, 286, 213, 242, 226, 260, 260, 260, 240,\n",
       "       223, 240, 278, 255, 242, 284, 286, 205, 224, 272, 222, 290, 289,\n",
       "       254, 249, 245, 244, 224, 220, 227, 258, 271, 277, 215, 252, 211,\n",
       "       200, 215, 271, 209, 237, 241, 212, 255, 224, 232, 299, 200, 268,\n",
       "       287, 224, 280, 274, 290, 216, 246, 296, 211, 228, 238, 211, 257,\n",
       "       246, 279, 230, 249, 232, 285, 245, 288, 217, 287, 285, 248, 250,\n",
       "       296, 230, 267, 278, 234, 246, 221, 238, 250, 288, 247, 298, 211,\n",
       "       258, 279, 279, 253, 245, 276, 267, 249, 234, 245, 265, 217, 261,\n",
       "       235, 264, 209, 217, 214, 287, 252, 229, 227, 289, 241, 276, 203,\n",
       "       283, 218, 284, 229, 257, 276, 223, 204, 243, 267, 298, 285, 279,\n",
       "       237, 286, 257, 276, 216, 273, 253, 206, 243, 291, 247, 219, 228,\n",
       "       236, 278, 209, 225, 259, 250, 283, 286, 270, 252, 249, 212, 293,\n",
       "       272, 203, 227, 233, 284, 253, 204, 286, 275, 235, 278, 278, 241,\n",
       "       216, 220, 280, 252, 223, 216, 237, 296, 225, 239, 258, 244, 216,\n",
       "       299, 232, 284, 278, 291, 246, 285, 239, 247, 280, 254, 202, 244,\n",
       "       203, 265, 279, 278, 202, 233, 249, 248, 204, 241, 279, 206, 268,\n",
       "       232, 260, 284, 200, 207, 209, 206, 293, 271, 223, 213, 288, 228,\n",
       "       205, 265, 246, 261, 243, 263, 287, 224, 228, 243, 229, 215, 204,\n",
       "       230, 266, 229, 223, 223, 253, 235, 271, 201, 252, 214, 229, 265,\n",
       "       234, 200, 208, 233, 275, 261, 280, 244, 244, 216, 262, 281, 240,\n",
       "       254, 290, 221, 247, 209, 232, 200, 266, 217, 239, 204, 277, 273,\n",
       "       266, 213, 289, 253, 279, 261, 200, 266, 289, 298, 261, 278, 279,\n",
       "       261, 238, 255, 222, 218, 256, 266, 256, 217, 253, 297, 216, 251,\n",
       "       265, 228, 246, 271, 220, 234, 232, 266, 282, 226, 287, 245, 297,\n",
       "       286, 202, 277, 266, 229, 293, 264, 236, 271, 289, 249, 223, 218,\n",
       "       293, 247, 205, 246, 268, 272, 242, 200, 256, 205, 248, 242, 201,\n",
       "       279, 240, 274, 236, 250, 241, 295, 267, 223, 227, 213, 250, 226,\n",
       "       257, 298, 264, 249, 211, 277, 227, 205, 238, 289, 264, 244, 223,\n",
       "       231, 240, 286, 230, 296, 275])"
      ]
     },
     "execution_count": 41,
     "metadata": {},
     "output_type": "execute_result"
    }
   ],
   "source": [
    "#generating a list of 500 integers containing values between 200 to 300 and store it in the variable `int_list2`\n",
    "\n",
    "int_list2 = np.random.randint(200,300,500)\n",
    "int_list2\n"
   ]
  },
  {
   "cell_type": "code",
   "execution_count": 60,
   "id": "2fa60667-665f-43e8-8de6-dc522ca48d65",
   "metadata": {},
   "outputs": [
    {
     "data": {
      "image/png": "[encoded data removed]",
      "text/plain": [
       "<Figure size 1400x500 with 2 Axes>"
      ]
     },
     "metadata": {},
     "output_type": "display_data"
    }
   ],
   "source": [
    "#(i) Compare the given list of visualization for the given data:\n",
    " #1. Frequency & Gaussian distribution\n",
    "\n",
    "    \n",
    "import matplotlib.pyplot as plt\n",
    "import numpy as np\n",
    "import seaborn as sns\n",
    "from  scipy import stats\n",
    "\n",
    "#plotting a frequency distribution(histogram)\n",
    "\n",
    "\n",
    "plt.figure(figsize=(14,5))\n",
    "plt.subplot(1,2,1)\n",
    "plt.title('frequency distribution')\n",
    "plt.xlabel('Values')\n",
    "plt.ylabel('Frequency')\n",
    "\n",
    "sns.histplot(int_list2, kde=False)\n",
    "\n",
    "#Gaussian distribution\n",
    "plt.subplot(1,2,2)\n",
    "\n",
    "stats.probplot(int_list2, dist='norm', plot=plt)\n",
    "plt.title('Gaussian distribution (Q-Q plot)')\n",
    "\n",
    "plt.show()\n"
   ]
  },
  {
   "cell_type": "code",
   "execution_count": 65,
   "id": "6c278b80-0aac-4ae9-abaf-37be141a2f9b",
   "metadata": {},
   "outputs": [
    {
     "data": {
      "text/plain": [
       "Text(0.5, 0, 'values')"
      ]
     },
     "execution_count": 65,
     "metadata": {},
     "output_type": "execute_result"
    },
    {
     "data": {
      "image/png": "[encoded data removed]",
      "text/plain": [
       "<Figure size 1400x500 with 2 Axes>"
      ]
     },
     "metadata": {},
     "output_type": "display_data"
    }
   ],
   "source": [
    "#2. Frequency smoothened KDE plot\n",
    "\n",
    "import matplotlib.pyplot as plt\n",
    "import numpy as np\n",
    "import seaborn as sns\n",
    "from  scipy import stats\n",
    "\n",
    "plt.figure(figsize=(14,5))\n",
    "plt.subplot(1,2,1)\n",
    "plt.title('frequency distribution')\n",
    "plt.xlabel('Values')\n",
    "plt.ylabel('Frequency')\n",
    "\n",
    "sns.histplot(int_list2, kde=False)\n",
    "\n",
    "plt.subplot(1,2,2)\n",
    "sns.kdeplot(int_list2, bw_adjust=0.5)\n",
    "plt.title('smoothened KDE plot')\n",
    "plt.xlabel('values')\n"
   ]
  },
  {
   "cell_type": "code",
   "execution_count": 73,
   "id": "979ea2db-a4db-43db-aff4-0926435dca73",
   "metadata": {},
   "outputs": [
    {
     "data": {
      "image/png": "[encoded data removed]",
      "text/plain": [
       "<Figure size 1400x500 with 2 Axes>"
      ]
     },
     "metadata": {},
     "output_type": "display_data"
    }
   ],
   "source": [
    "# 3. Gaussian distribution & smoothened KDE plot\n",
    "\n",
    "plt.figure(figsize=(14,5))\n",
    "plt.subplot(1,2,1)\n",
    "\n",
    "stats.probplot(int_list2, dist='norm', plot=plt)\n",
    "plt.title('Gaussian distribution (Q-Q plot)')\n",
    "\n",
    "\n",
    "\n",
    "plt.subplot(1,2,2)\n",
    "sns.kdeplot(int_list2, bw_adjust=0.5)\n",
    "plt.title('smoothened KDE plot')\n",
    "plt.xlabel('values')\n",
    "plt.show()\n",
    "\n"
   ]
  },
  {
   "cell_type": "code",
   "execution_count": 75,
   "id": "bad4d124-d34f-4e67-bd1c-fea8d8738c9c",
   "metadata": {},
   "outputs": [
    {
     "name": "stdout",
     "output_type": "stream",
     "text": [
      "range of a given list of numbers: 99\n"
     ]
    }
   ],
   "source": [
    "#(ii) Write a Python function to calculate the range of a given list of numbers.\n",
    "\n",
    "import numpy as np\n",
    "\n",
    "\n",
    "calculate_range= np.max(int_list2) - np.min(int_list2)\n",
    "print('range of a given list of numbers:',calculate_range)\n"
   ]
  },
  {
   "cell_type": "code",
   "execution_count": 83,
   "id": "c6d98e30-4857-4fd6-80cb-334f42bc337e",
   "metadata": {},
   "outputs": [
    {
     "name": "stdout",
     "output_type": "stream",
     "text": [
      "variance and standard deviation: 791.250784 , 28.129180293780337\n"
     ]
    }
   ],
   "source": [
    "# (iii) Create a program to find the variance and standard deviation of a list of numbers\n",
    "\n",
    "import numpy as np\n",
    "\n",
    "variance= np.var(int_list2)\n",
    "standard_deviation= np.std(int_list2)\n",
    "\n",
    "print('variance and standard deviation:',variance,',',standard_deviation)"
   ]
  },
  {
   "cell_type": "code",
   "execution_count": 85,
   "id": "0d854859-30a6-46bd-b45a-2b8b292f6eaf",
   "metadata": {},
   "outputs": [
    {
     "name": "stdout",
     "output_type": "stream",
     "text": [
      "interquartile range(IQR): 49.25\n"
     ]
    }
   ],
   "source": [
    "#(iv) Implement a function to compute the interquartile range (IQR) of a list of values.\n",
    "\n",
    "import numpy as np\n",
    "\n",
    "def compute_IQR(int_list2):\n",
    "    \n",
    "    #calcualte the quartile\n",
    "    Q1= np.percentile(int_list2, 25)\n",
    "    Q3= np.percentile(int_list2,75)\n",
    "    \n",
    "    IQR= Q3-Q1\n",
    "    return IQR\n",
    "\n",
    "\n",
    "IQR_values=compute_IQR(int_list2)\n",
    "\n",
    "print('interquartile range(IQR):',IQR_values)"
   ]
  },
  {
   "cell_type": "code",
   "execution_count": 87,
   "id": "a4fa097c-de7e-4c30-94ca-d8b48de91f9d",
   "metadata": {},
   "outputs": [
    {
     "name": "stdout",
     "output_type": "stream",
     "text": [
      "coefficient of variation: 11.29250581855202\n"
     ]
    }
   ],
   "source": [
    "#(v) Build a program to calculate the coefficient of variation for a dataset.\n",
    "\n",
    "\n",
    "import numpy as np\n",
    "def co_variance(int_list2):\n",
    "    std= np.std(int_list2)\n",
    "    mean=np.mean(int_list2)\n",
    "    \n",
    "    return std/mean *100  # cv in percent\n",
    "\n",
    "print('coefficient of variation:',co_variance(int_list2))"
   ]
  },
  {
   "cell_type": "code",
   "execution_count": 89,
   "id": "bcee4ad1-6c65-4f38-8c37-a4af14d8b54f",
   "metadata": {},
   "outputs": [
    {
     "name": "stdout",
     "output_type": "stream",
     "text": [
      "MAD: 24.250304\n"
     ]
    }
   ],
   "source": [
    "#(vi) Write a Python function to find the mean absolute deviation (MAD) of a list of numbers.\n",
    "\n",
    "import numpy as np\n",
    "\n",
    "\n",
    "def absolute_deviation(int_list2):\n",
    "    mean= np.mean(int_list2)\n",
    "    absolute_deviation= np.abs(int_list2- mean)\n",
    "    mad= np.mean(absolute_deviation)\n",
    "    \n",
    "    return mad\n",
    "\n",
    "print('MAD:',absolute_deviation(int_list2))\n",
    "\n"
   ]
  },
  {
   "cell_type": "code",
   "execution_count": 92,
   "id": "dfa0e72c-7442-4122-8eeb-f5a6a406481f",
   "metadata": {},
   "outputs": [
    {
     "name": "stdout",
     "output_type": "stream",
     "text": [
      "quartile deviation: 24.625\n"
     ]
    }
   ],
   "source": [
    "#(vii) Create a program to calculate the quartile deviation of a list of values.\n",
    "\n",
    "import numpy as np\n",
    "\n",
    "def quartile_deviation(int_list2):\n",
    "    \n",
    "    \n",
    "    Q1= np.percentile(int_list2, 25)\n",
    "    Q3= np.percentile(int_list2, 75)\n",
    "    \n",
    "    #calculate the quartile deviation\n",
    "    quartile_deviation=(Q3-Q1)/2\n",
    "    \n",
    "    return quartile_deviation\n",
    "\n",
    "print('quartile deviation:',quartile_deviation(int_list2))"
   ]
  },
  {
   "cell_type": "code",
   "execution_count": 98,
   "id": "55bf47e9-d76f-41d7-a841-741317ea9599",
   "metadata": {},
   "outputs": [
    {
     "name": "stdout",
     "output_type": "stream",
     "text": [
      "range-based coefficient of dispersion: 39.7437132671741\n"
     ]
    }
   ],
   "source": [
    "#(viii) Implement a function to find the range-based coefficient of dispersion for a dataset.\n",
    "\n",
    "import numpy as np\n",
    "\n",
    "\n",
    "def range_based_coefficient_dispersion(int_list2):\n",
    "    \n",
    "    mean=np.mean(int_list2)\n",
    "    data_range=(np.max(int_list2)-(np.min(int_list2)))\n",
    "    \n",
    "    \n",
    "    coefficient_dispersion= (data_range / mean *100)  # percentage based\n",
    "    \n",
    "    return coefficient_dispersion\n",
    "\n",
    "\n",
    "print('range-based coefficient of dispersion:', range_based_coefficient_dispersion(int_list2))"
   ]
  },
  {
   "cell_type": "code",
   "execution_count": 6,
   "id": "0c99ede8-5218-4985-8e16-3f001eca4f52",
   "metadata": {},
   "outputs": [
    {
     "name": "stdout",
     "output_type": "stream",
     "text": [
      "Discrete Random Variable: values=[0, 1, 2, 3, 4], probabilities=[0.1, 0.2, 0.3, 0.2, 0.2]\n",
      "Expected value: 2.2\n",
      "Variance: 1.56\n"
     ]
    }
   ],
   "source": [
    "#3. Write a Python class representing a discrete random variable with methods to calculate its expected value and variance.\n",
    "\n",
    "\n",
    "class DiscreteRandomVariable:\n",
    "    \n",
    "\n",
    "    def __init__(self, values, probabilities):\n",
    "        \n",
    "        self.values = values\n",
    "        self.probabilities = probabilities\n",
    "\n",
    "    def expected_value(self):\n",
    "        \n",
    "        return sum(x * p for x, p in zip(self.values, self.probabilities))\n",
    "\n",
    "    def variance(self):\n",
    "        \n",
    "        ev = self.expected_value()\n",
    "        return sum((x - ev) ** 2 * p for x, p in zip(self.values, self.probabilities))\n",
    "\n",
    "    def __str__(self):\n",
    "        \n",
    "        return f\"Discrete Random Variable: values={self.values}, probabilities={self.probabilities}\"\n",
    "\n",
    "# Example\n",
    "values = [0, 1, 2, 3, 4]\n",
    "probabilities = [0.1, 0.2, 0.3, 0.2, 0.2]\n",
    "rv = DiscreteRandomVariable(values, probabilities)\n",
    "\n",
    "print(rv)\n",
    "print(\"Expected value:\", rv.expected_value())\n",
    "print(\"Variance:\", rv.variance())"
   ]
  },
  {
   "cell_type": "code",
   "execution_count": 7,
   "id": "cc3916da-2c98-4495-858d-29b9f7e3c550",
   "metadata": {},
   "outputs": [
    {
     "name": "stdout",
     "output_type": "stream",
     "text": [
      "Fair Six-Sided Die\n",
      "Theoretical Expected Value: 3.5\n",
      "Estimated Expected Value: 3.498599\n",
      "Theoretical Variance: 2.9166666666666665\n",
      "Estimated Variance: 2.9181840371874803\n"
     ]
    }
   ],
   "source": [
    "#4.Implement a program to simulate the rolling of a fair six-sided die and calculate the expected value and \n",
    "#variance of the outcomes\n",
    "\n",
    "\n",
    "import random\n",
    "\n",
    "class Die:\n",
    "\n",
    "    def __init__(self):\n",
    "        self.outcomes = [1, 2, 3, 4, 5, 6]\n",
    "        self.probabilities = [1/6, 1/6, 1/6, 1/6, 1/6, 1/6]\n",
    "\n",
    "    def roll(self):\n",
    "        return random.choice(self.outcomes)\n",
    "\n",
    "    def expected_value(self):\n",
    "        \n",
    "        return sum(x * p for x, p in zip(self.outcomes, self.probabilities))\n",
    "\n",
    "    def variance(self):\n",
    "       \n",
    "        ev = self.expected_value()\n",
    "        return sum((x - ev) ** 2 * p for x, p in zip(self.outcomes, self.probabilities))\n",
    "\n",
    "    def __str__(self):\n",
    "       \n",
    "        return \"Fair Six-Sided Die\"\n",
    "\n",
    "# Create a die\n",
    "die = Die()\n",
    "\n",
    "# Simulate many rolls to estimate the expected value and variance\n",
    "num_rolls = 1000000\n",
    "outcomes = [die.roll() for _ in range(num_rolls)]\n",
    "\n",
    "# Calculate the estimated expected value and variance\n",
    "estimated_ev = sum(outcomes) / num_rolls\n",
    "estimated_variance = sum((x - estimated_ev) ** 2 for x in outcomes) / num_rolls\n",
    "\n",
    "print(die)\n",
    "print(\"Theoretical Expected Value:\", die.expected_value())\n",
    "print(\"Estimated Expected Value:\", estimated_ev)\n",
    "print(\"Theoretical Variance:\", die.variance())\n",
    "print(\"Estimated Variance:\", estimated_variance)"
   ]
  },
  {
   "cell_type": "code",
   "execution_count": 66,
   "id": "4aea35d3-cc31-4b06-bd01-7bf59a5097d9",
   "metadata": {},
   "outputs": [
    {
     "name": "stdout",
     "output_type": "stream",
     "text": [
      "Binomial Distribution:\n",
      "Mean: 4.987\n",
      "Variance: 2.566831\n",
      "\n",
      "Poisson Distribution:\n",
      "Mean: 4.955\n",
      "Variance: 5.038975000000001\n"
     ]
    }
   ],
   "source": [
    "#5. Create a Python function to generate random samples from a given probability distribution (e.g., \n",
    "#binomial, Poisson) and calculate their mean and variance.\n",
    "\n",
    "import numpy as np\n",
    "from scipy.stats import binom, poisson\n",
    "import seaborn as sns\n",
    "\n",
    "\n",
    "    \n",
    "def generate_samples(dist, **params):\n",
    "    \n",
    "    \n",
    "    if dist == 'binomial':\n",
    "        n, p = params['n'], params['p']\n",
    "        samples = np.random.binomial(n, p, 1000)  # generate 1000 samples\n",
    "    elif dist == 'poisson':\n",
    "        mu = params['mu']\n",
    "        samples = np.random.poisson(mu, 1000)  # generate 1000 samples\n",
    "    else:\n",
    "        raise ValueError(\"Invalid distribution type. Must be 'binomial' or 'poisson'.\")\n",
    "\n",
    "    mean = np.mean(samples)\n",
    "    variance = np.var(samples)\n",
    "\n",
    "    return samples, mean, variance\n",
    "\n",
    "# Example usage:\n",
    "binomial_samples, binomial_mean, binomial_variance = generate_samples('binomial', n=10, p=0.5)\n",
    "print(\"Binomial Distribution:\")\n",
    "print(\"Mean:\", binomial_mean)\n",
    "print(\"Variance:\", binomial_variance)\n",
    "\n",
    "poisson_samples, poisson_mean, poisson_variance = generate_samples('poisson', mu=5)\n",
    "print(\"\\nPoisson Distribution:\")\n",
    "print(\"Mean:\", poisson_mean)\n",
    "print(\"Variance:\", poisson_variance)\n",
    "\n",
    "\n",
    "\n",
    "\n"
   ]
  },
  {
   "cell_type": "code",
   "execution_count": 67,
   "id": "12363500-0b28-46e3-b8de-77f1282cbeb7",
   "metadata": {},
   "outputs": [
    {
     "name": "stdout",
     "output_type": "stream",
     "text": [
      "Gaussian Distribution:\n",
      "Mean: -0.01609235737764969\n",
      "Variance: 0.9423484403379017\n",
      "Standard Deviation: 0.9707463316118695\n"
     ]
    }
   ],
   "source": [
    "#6. Write a Python script to generate random numbers from a Gaussian (normal) distribution and compute \n",
    "#the mean, variance, and standard deviation of the samples.\n",
    "\n",
    "import numpy as np\n",
    "\n",
    "def generate_gaussian_samples(mean, std_dev, num_samples):\n",
    "    \n",
    "    \n",
    "    samples= np.random.normal(mean, std_dev, num_samples)\n",
    "    mean_sample=np.mean(samples)\n",
    "    variance_sample=np.var(samples)\n",
    "    std_dev_sample= np.std(samples)\n",
    "    \n",
    "    return samples,mean_sample,variance_sample,std_dev_sample\n",
    "\n",
    "# Example usage:\n",
    "mean = 0\n",
    "std_dev = 1\n",
    "num_samples = 1000\n",
    "\n",
    "samples, mean_sample, variance_sample, std_dev_sample = generate_gaussian_samples(mean, std_dev, num_samples)\n",
    "\n",
    "print(\"Gaussian Distribution:\")\n",
    "print(\"Mean:\", mean_sample)\n",
    "print(\"Variance:\", variance_sample)\n",
    "print(\"Standard Deviation:\", std_dev_sample)\n"
   ]
  },
  {
   "cell_type": "code",
   "execution_count": 68,
   "id": "34cc182e-4d03-4275-bcbb-c960c884c8d7",
   "metadata": {},
   "outputs": [],
   "source": [
    "#7. Use seaborn library to load `tips` dataset. Find the following from the dataset for the columns `total_bill` and `tip`:\n",
    "\n",
    "#(i) Write a Python function that calculates their skewness.\n",
    "#(ii) Create a program that determines whether the columns exhibit positive skewness, negative skewness, or is approximately symmetric.\n",
    "#(iii) Write a function that calculates the covariance between two columns.\n",
    "#(iv) Implement a Python program that calculates the Pearson correlation coefficient between two columns.\n",
    "#(v) Write a script to visualize the correlation between two specific columns in a Pandas DataFrame using scatter plots.\n",
    "\n"
   ]
  },
  {
   "cell_type": "code",
   "execution_count": 2,
   "id": "f9691c1d-1c92-4278-8f4c-f8789fa3f118",
   "metadata": {},
   "outputs": [
    {
     "data": {
      "text/html": [
       "<div>\n",
       "<style scoped>\n",
       "    .dataframe tbody tr th:only-of-type {\n",
       "        vertical-align: middle;\n",
       "    }\n",
       "\n",
       "    .dataframe tbody tr th {\n",
       "        vertical-align: top;\n",
       "    }\n",
       "\n",
       "    .dataframe thead th {\n",
       "        text-align: right;\n",
       "    }\n",
       "</style>\n",
       "<table border=\"1\" class=\"dataframe\">\n",
       "  <thead>\n",
       "    <tr style=\"text-align: right;\">\n",
       "      <th></th>\n",
       "      <th>total_bill</th>\n",
       "      <th>tip</th>\n",
       "    </tr>\n",
       "  </thead>\n",
       "  <tbody>\n",
       "    <tr>\n",
       "      <th>0</th>\n",
       "      <td>16.99</td>\n",
       "      <td>1.01</td>\n",
       "    </tr>\n",
       "    <tr>\n",
       "      <th>1</th>\n",
       "      <td>10.34</td>\n",
       "      <td>1.66</td>\n",
       "    </tr>\n",
       "    <tr>\n",
       "      <th>2</th>\n",
       "      <td>21.01</td>\n",
       "      <td>3.50</td>\n",
       "    </tr>\n",
       "    <tr>\n",
       "      <th>3</th>\n",
       "      <td>23.68</td>\n",
       "      <td>3.31</td>\n",
       "    </tr>\n",
       "    <tr>\n",
       "      <th>4</th>\n",
       "      <td>24.59</td>\n",
       "      <td>3.61</td>\n",
       "    </tr>\n",
       "    <tr>\n",
       "      <th>...</th>\n",
       "      <td>...</td>\n",
       "      <td>...</td>\n",
       "    </tr>\n",
       "    <tr>\n",
       "      <th>239</th>\n",
       "      <td>29.03</td>\n",
       "      <td>5.92</td>\n",
       "    </tr>\n",
       "    <tr>\n",
       "      <th>240</th>\n",
       "      <td>27.18</td>\n",
       "      <td>2.00</td>\n",
       "    </tr>\n",
       "    <tr>\n",
       "      <th>241</th>\n",
       "      <td>22.67</td>\n",
       "      <td>2.00</td>\n",
       "    </tr>\n",
       "    <tr>\n",
       "      <th>242</th>\n",
       "      <td>17.82</td>\n",
       "      <td>1.75</td>\n",
       "    </tr>\n",
       "    <tr>\n",
       "      <th>243</th>\n",
       "      <td>18.78</td>\n",
       "      <td>3.00</td>\n",
       "    </tr>\n",
       "  </tbody>\n",
       "</table>\n",
       "<p>244 rows × 2 columns</p>\n",
       "</div>"
      ],
      "text/plain": [
       "     total_bill   tip\n",
       "0         16.99  1.01\n",
       "1         10.34  1.66\n",
       "2         21.01  3.50\n",
       "3         23.68  3.31\n",
       "4         24.59  3.61\n",
       "..          ...   ...\n",
       "239       29.03  5.92\n",
       "240       27.18  2.00\n",
       "241       22.67  2.00\n",
       "242       17.82  1.75\n",
       "243       18.78  3.00\n",
       "\n",
       "[244 rows x 2 columns]"
      ]
     },
     "execution_count": 2,
     "metadata": {},
     "output_type": "execute_result"
    }
   ],
   "source": [
    "#seaborn library to load `tips` dataset. Find the following from the dataset for the columns `total_bill` and `tip\n",
    "\n",
    "\n",
    "import numpy as np\n",
    "import seaborn as sns\n",
    "import pandas as pd\n",
    "\n",
    "df=sns.load_dataset('tips')\n",
    "df.head()\n",
    "\n",
    "df=df[['total_bill', 'tip']]\n",
    "df\n",
    "\n",
    "\n"
   ]
  },
  {
   "cell_type": "code",
   "execution_count": 6,
   "id": "1a6da632-7247-4de9-b9d7-dcce3f2eaed0",
   "metadata": {},
   "outputs": [
    {
     "name": "stdout",
     "output_type": "stream",
     "text": [
      "skewness of total_bill and tip: 1.1262346334818638 1.4564266884221506\n"
     ]
    }
   ],
   "source": [
    "#(i) Write a Python function that calculates their skewness.\n",
    "\n",
    "import scipy.stats as stats\n",
    "\n",
    "total_bill_skewness= stats.skew(df['total_bill'])\n",
    "total_bill_tip=stats.skew(df['tip'])\n",
    "\n",
    "\n",
    "print('skewness of total_bill and tip:',total_bill_skewness,total_bill_tip)"
   ]
  },
  {
   "cell_type": "code",
   "execution_count": 7,
   "id": "6090ad5d-b5c8-4e54-9e51-bcb50c3354b8",
   "metadata": {},
   "outputs": [
    {
     "name": "stdout",
     "output_type": "stream",
     "text": [
      "total_bill column exhibits positive skewness\n",
      "tip column exhibits positive skewness.\n"
     ]
    }
   ],
   "source": [
    "#(ii)Create a program that determines whether the columns exhibit positive skewness, negative skewness, or is approximately symmetric.\n",
    "\n",
    "def determine_skewness():\n",
    "    \n",
    "\n",
    "    df1= df['total_bill']\n",
    "    df2=df['tip']\n",
    "    \n",
    "    # Calculate the skewness of the total_bill column\n",
    "    total_bill_skewness = stats.skew(df1)\n",
    "    \n",
    "    \n",
    "    if total_bill_skewness > 0:\n",
    "        print('total_bill column exhibits positive skewness')\n",
    "    elif total_bill_skewness < 0:\n",
    "        print(\"total_bill column exhibits negative skewness.\")\n",
    "    else:\n",
    "        print(\"total_bill column is approximately symmetric.\")\n",
    "        \n",
    " #Calculate the skewness of the tip column\n",
    "    tip_skewness = stats.skew(df2)\n",
    "    if tip_skewness > 0:\n",
    "        print(\"tip column exhibits positive skewness.\")\n",
    "    elif tip_skewness < 0:\n",
    "        print(\"tip column exhibits negative skewness.\")\n",
    "    else:\n",
    "        print(\"tip column is approximately symmetric.\")\n",
    "\n",
    "determine_skewness()\n",
    "\n",
    "    \n",
    "\n"
   ]
  },
  {
   "cell_type": "code",
   "execution_count": 29,
   "id": "fd1c24f0-4353-4b32-bef2-a479fff36755",
   "metadata": {},
   "outputs": [
    {
     "name": "stdout",
     "output_type": "stream",
     "text": [
      "covariance between two columns: 8.323501629224854\n"
     ]
    }
   ],
   "source": [
    "#(iii) Write a function that calculates the covariance between two columns\n",
    "\n",
    "import pandas as pd\n",
    "import seaborn as sns\n",
    "\n",
    "\n",
    "\n",
    "df= sns.load_dataset('tips')  \n",
    "\n",
    "covariance = df['total_bill'].cov(df['tip'])\n",
    "\n",
    "print('covariance between two columns:',covariance)\n",
    "        "
   ]
  },
  {
   "cell_type": "code",
   "execution_count": 35,
   "id": "ec7e6187-8e50-4859-92f5-9c8abded3d27",
   "metadata": {},
   "outputs": [
    {
     "name": "stdout",
     "output_type": "stream",
     "text": [
      "Pearson correlation coefficient between total_bill and tip: 0.6757341092113641\n"
     ]
    }
   ],
   "source": [
    "#(iv) Implement a Python program that calculates the Pearson correlation coefficient between two columns.\n",
    "\n",
    "import pandas as pd\n",
    "import seaborn as sns\n",
    "df= sns.load_dataset('tips')\n",
    "\n",
    "\n",
    "#Pearson correlation coefficient between two columns using pandas\n",
    "\n",
    "correlation = df['total_bill'].corr(df['tip'], method='pearson')\n",
    "\n",
    "print(\"Pearson correlation coefficient between total_bill and tip:\", correlation)\n"
   ]
  },
  {
   "cell_type": "code",
   "execution_count": 47,
   "id": "6e0c6c19-0b32-4035-a9f9-4061c290a140",
   "metadata": {},
   "outputs": [
    {
     "data": {
      "text/plain": [
       "<AxesSubplot: xlabel='total_bill', ylabel='tip'>"
      ]
     },
     "execution_count": 47,
     "metadata": {},
     "output_type": "execute_result"
    },
    {
     "data": {
      "image/png": "[encoded data removed]",
      "text/plain": [
       "<Figure size 640x480 with 1 Axes>"
      ]
     },
     "metadata": {},
     "output_type": "display_data"
    }
   ],
   "source": [
    "#(v) Write a script to visualize the correlation between two specific columns in a Pandas DataFrame using scatter plots.\n",
    "\n",
    "import pandas as pd\n",
    "import matplotlib.pyplot as plt\n",
    "import seaborn as sns\n",
    "\n",
    "\n",
    "df= sns.load_dataset('tips')\n",
    "\n",
    "\n",
    "df.plot.scatter(x='total_bill', y='tip')\n"
   ]
  },
  {
   "cell_type": "code",
   "execution_count": 5,
   "id": "28cff5bd-d934-4820-a0ed-6af8b561e3c0",
   "metadata": {},
   "outputs": [
    {
     "name": "stdout",
     "output_type": "stream",
     "text": [
      "pdf_value: 0.10648266850745075\n"
     ]
    }
   ],
   "source": [
    "#8. Write a Python function to calculate the probability density function (PDF) of a continuous random \n",
    "#variable for a given normal distribution.\n",
    "\n",
    "\n",
    "import scipy.stats as stats\n",
    "\n",
    "def normal_od(x, mean, std_dev):\n",
    "    return stats.norm.pdf(x, mean, std_dev)\n",
    "\n",
    "#Example \n",
    "x=3.0\n",
    "mean =5.0\n",
    "std_dev =3.0\n",
    "\n",
    "pdf_value =normal_od(x, mean, std_dev)\n",
    "print('pdf_value:',pdf_value)"
   ]
  },
  {
   "cell_type": "code",
   "execution_count": 6,
   "id": "c37a4956-febc-4dcb-bc43-8b4be007e236",
   "metadata": {},
   "outputs": [
    {
     "name": "stdout",
     "output_type": "stream",
     "text": [
      "cdf_value: 0.950212931632136\n"
     ]
    }
   ],
   "source": [
    "#9. Create a program to calculate the cumulative distribution function (CDF) of exponential distribution.\n",
    "\n",
    "import scipy.stats as stats\n",
    "\n",
    "def exponential_cdf(x, rate):\n",
    "    \n",
    "    return stats.expon.cdf(x, scale=1/rate)\n",
    "\n",
    "# Example :\n",
    "x = 2.0\n",
    "rate = 1.5\n",
    "cdf_value = exponential_cdf(x, rate)\n",
    "\n",
    "print('cdf_value:',cdf_value)\n",
    "\n"
   ]
  },
  {
   "cell_type": "code",
   "execution_count": 7,
   "id": "e1d44fb2-e63a-4593-bd43-2b7f678adddb",
   "metadata": {},
   "outputs": [
    {
     "name": "stdout",
     "output_type": "stream",
     "text": [
      "pmf_value: 0.21376301724973648\n"
     ]
    }
   ],
   "source": [
    "#10.Write a Python function to calculate the probability mass function (PMF) of Poisson distribution.\n",
    "\n",
    "import scipy.stats as stats\n",
    "\n",
    "def poisson_pmf(k, rate):\n",
    "\n",
    "    return stats.poisson.pmf(k, rate)\n",
    "\n",
    "# Example :\n",
    "k = 3\n",
    "rate = 2.5\n",
    "pmf_value = poisson_pmf(k, rate)\n",
    "\n",
    "print('pmf_value:',pmf_value)"
   ]
  },
  {
   "cell_type": "code",
   "execution_count": 16,
   "id": "dd86ea32-f662-45b8-8dc9-d01cf57e8df1",
   "metadata": {},
   "outputs": [
    {
     "name": "stdout",
     "output_type": "stream",
     "text": [
      "Fail to reject the null hypothesis: The difference in conversion.\n"
     ]
    }
   ],
   "source": [
    "#11. A company wants to test if a new website layout leads to a higher conversion rate (percentage of visitors \n",
    "# who make a purchase). They collect data from the old and new layouts to compare.\n",
    "\n",
    "#To generate the data use the following command:\n",
    "# ```python\n",
    "import numpy as np\n",
    "from scipy.stats import norm\n",
    "\n",
    "# 50 purchases out of 1000 visitors\n",
    "old_layout = np.array([1] * 50 + [0] * 950)\n",
    "# 70 purchases out of 1000 visitors  \n",
    "new_layout = np.array([1] * 70 + [0] * 930)\n",
    "\n",
    "# Apply z-test to find which layout is successful.\n",
    "\n",
    "# Calculate proportions\n",
    "\n",
    "p_old= np.mean(old_layout)\n",
    "p_new=np.mean(new_layout)\n",
    "\n",
    "#Calculate standard errors\n",
    "n_old = len(old_layout)\n",
    "n_new = len(new_layout)\n",
    "se_old = np.sqrt(p_old * (1 - p_old) / n_old)\n",
    "se_new = np.sqrt(p_new * (1 - p_new) / n_new)\n",
    "\n",
    "# Calculate the z-score\n",
    "z_score = (p_new - p_old) / np.sqrt(se_old**2 + se_new**2)\n",
    "\n",
    "# Calculate the p-value\n",
    "p_value = 2 * (1 - norm.cdf(abs(z_score)))\n",
    "\n",
    "# Set the significance level\n",
    "alpha = 0.05\n",
    "\n",
    "# Check if the p-value is below the significance level\n",
    "if p_value < alpha:\n",
    "    print(\"Reject the null hypothesis: The new layout has a significantly higher conversion rate.\")\n",
    "else:\n",
    "    print(\"Fail to reject the null hypothesis: The difference in conversion.\")\n",
    "\n",
    "\n"
   ]
  },
  {
   "cell_type": "code",
   "execution_count": 19,
   "id": "dad90b86-c9d8-4f90-b611-842e279be097",
   "metadata": {},
   "outputs": [
    {
     "name": "stdout",
     "output_type": "stream",
     "text": [
      "Z-score: 4.841648318657442\n",
      "P-value: 1.287665097438051e-06\n",
      "Reject the null hypothesis: The tutoring program has a significant effect on the exam scores.\n"
     ]
    }
   ],
   "source": [
    "#12.A tutoring service claims that its program improves students' exam scores. A sample of students who \n",
    "#participated in the program was taken, and their scores before and after the program were recorded.\n",
    "# Use the below code to generate samples of respective arrays of marks:\n",
    "import numpy as np\n",
    "\n",
    "before_program = np.array([75, 80, 85, 70, 90, 78, 92, 88, 82, 87])\n",
    "after_program = np.array([80, 85, 90, 80, 92, 80, 95, 90, 85, 88])\n",
    "\n",
    "# Use z-test to find if the claims made by tutor are true or false.\n",
    "\n",
    "# calculate means\n",
    "\n",
    "mean_before= np.mean(before_program)\n",
    "mean_after=np.mean(after_program)\n",
    "\n",
    "\n",
    "# Calculate standard deviations\n",
    "\n",
    "std_before = np.std(before_program)\n",
    "std_after = np.std(after_program)\n",
    "\n",
    "#Calculate the Z-Score\n",
    "\n",
    "#Calculate the differences between the scores\n",
    "differences = after_program - before_program\n",
    "\n",
    "# Calculate the mean and standard deviation of the differences\n",
    "mean_diff = np.mean(differences)\n",
    "std_diff = np.std(differences)\n",
    "\n",
    "# Calculate the z-score\n",
    "z_score = mean_diff / (std_diff / np.sqrt(len(differences)))\n",
    "\n",
    "print(f\"Z-score: {z_score}\")\n",
    "\n",
    "#p-value\n",
    "\n",
    "from scipy.stats import norm\n",
    "\n",
    "# Calculate the p-value\n",
    "p_value = 2 * (1 - norm.cdf(abs(z_score)))\n",
    "print(f\"P-value: {p_value}\")\n",
    "\n",
    "\n",
    "# Interpret the result\n",
    "alpha = 0.05  # significance level\n",
    "if p_value < alpha:\n",
    "    print(\"Reject the null hypothesis: The tutoring program has a significant effect on the exam scores.\")\n",
    "else:\n",
    "    print(\"Fail to reject the null hypothesis: The tutoring program does not have a significant effect on the exam scores.\")"
   ]
  },
  {
   "cell_type": "code",
   "execution_count": 25,
   "id": "8516d451-4ad0-41f9-ae62-6777a9cebe75",
   "metadata": {},
   "outputs": [
    {
     "name": "stdout",
     "output_type": "stream",
     "text": [
      "Reject the null hypothesis: The drug has a significant effect on reducing blood pressure.\n"
     ]
    }
   ],
   "source": [
    "#13 A pharmaceutical company wants to determine if a new drug is effective in reducing blood pressure. They \n",
    "#conduct a study and record blood pressure measurements before and after administering the drug.\n",
    "# Use the below code to generate samples of respective arrays of blood pressure:\n",
    "# ```python\n",
    "# before_drug = np.array([145, 150, 140, 135, 155, 160, 152, 148, 130, 138])\n",
    "# after_drug = np.array([130, 140, 132, 128, 145, 148, 138, 136, 125, 130])\n",
    "# ```\n",
    "# Implement z-test to find if the drug really works or not.\n",
    "\n",
    "\n",
    "import numpy as np\n",
    "from scipy import stats\n",
    "\n",
    "# Sample data\n",
    "before_drug = np.array([145, 150, 140, 135, 155, 160, 152, 148, 130, 138])\n",
    "after_drug = np.array([130, 140, 132, 128, 145, 148, 138, 136, 125, 130])\n",
    "\n",
    "# Calculate the differences between the paired measurements\n",
    "differences = before_drug - after_drug\n",
    "\n",
    "# Calculate the mean and standard deviation of the differences\n",
    "mean_diff = np.mean(differences)\n",
    "std_diff = np.std(differences, ddof=1)  # Use ddof=1 for sample standard deviation\n",
    "n = len(differences)\n",
    "\n",
    "# Calculate the z-statistic\n",
    "z_stat = mean_diff / (std_diff / np.sqrt(n))\n",
    "\n",
    "# Calculate the p-value from the z-statistic\n",
    "p_value = 2 * (1 - stats.norm.cdf(abs(z_stat)))\n",
    "\n",
    "\n",
    "# Interpret the result\n",
    "alpha = 0.05  # significance level\n",
    "if p_value < alpha:\n",
    "    print(\"Reject the null hypothesis: The drug has a significant effect on reducing blood pressure.\")\n",
    "else:\n",
    "    print(\"Fail to reject the null hypothesis: The drug does not have a significant effect on reducing blood pressure.\")\n"
   ]
  },
  {
   "cell_type": "code",
   "execution_count": 13,
   "id": "eefb4328-93cd-48fb-9f2d-d9a1da52ea6d",
   "metadata": {},
   "outputs": [
    {
     "name": "stdout",
     "output_type": "stream",
     "text": [
      "z and p-value: -3.184457226042963 0.0007251287113068958\n",
      "Reject the null hypothesis. The average response time is less than 5 minutes.\n"
     ]
    }
   ],
   "source": [
    "#14.A customer service department claims that their average response time is less than 5 minutes. A sample \n",
    "# of recent customer interactions was taken, and the response times were recorded.\n",
    "# Implement the below code to generate the array of response time:\n",
    "#```python\n",
    "#response_times = np.array([4.3, 3.8, 5.1, 4.9, 4.7, 4.2, 5.2, 4.5, 4.6, 4.4])\n",
    "#```\n",
    "#Implement z-test to find the claims made by customer service department are true or false.\n",
    "\n",
    "\n",
    "\n",
    "\n",
    "import numpy as np\n",
    "from scipy import stats\n",
    "\n",
    "\n",
    "#Define the null and alternative hypotheses\n",
    "\n",
    "#Null hypothesis-The average response time is 5 minutes or more\n",
    "#Alternative hypothesis=The average response time is less than 5 minutes \n",
    "\n",
    "\n",
    "response_times = np.array([4.3, 3.8, 5.1, 4.9, 4.7, 4.2, 5.2, 4.5, 4.6, 4.4])\n",
    "\n",
    "sample_mean= np.mean(response_times)\n",
    "\n",
    "sample_std= np.std(response_times, ddof=1)\n",
    "\n",
    "population_mean=5\n",
    "\n",
    "\n",
    "#sample size\n",
    "n= len(response_times)\n",
    "\n",
    "#standard error\n",
    "\n",
    "SE = sample_std / np.sqrt(n)\n",
    "\n",
    "#z score\n",
    "z=(sample_mean - population_mean) / SE\n",
    "\n",
    "#p value\n",
    "p_value= stats.norm.cdf(z)\n",
    "\n",
    "alpha= 0.05\n",
    "print('z and p-value:', z, p_value)\n",
    "\n",
    "if p_value < alpha:\n",
    "    print(\"Reject the null hypothesis. The average response time is less than 5 minutes.\")\n",
    "else:\n",
    "    print(\"Fail to reject the null hypothesis. The average response timeis not less than 5 minutes.\")\n"
   ]
  },
  {
   "cell_type": "code",
   "execution_count": 34,
   "id": "18b4c5db-9e2a-4342-afcb-778e58b16cf8",
   "metadata": {},
   "outputs": [
    {
     "name": "stdout",
     "output_type": "stream",
     "text": [
      "reject the null hypothesis\n"
     ]
    }
   ],
   "source": [
    "#15. A company is testing two different website layouts to see which one leads to higher click-through rates. \n",
    "#Write a Python function to perform an A/B test analysis, including calculating the t-statistic, degrees of \n",
    "#freedom, and p-value.\n",
    "# Use the following data:\n",
    "# ```python\n",
    "# layout_a_clicks = [28, 32, 33, 29, 31, 34, 30, 35, 36, 37]\n",
    "# layout_b_clicks = [40, 41, 38, 42, 39, 44, 43, 41, 45, 47]\n",
    "\n",
    "import numpy as np\n",
    "from scipy import stats\n",
    "\n",
    "#Define the null and alternative hypotheses\n",
    "\n",
    "#HO=The mean click-through rates of the two layouts are equal\n",
    "#HA=The mean click-through rates of the two layouts are not equal\n",
    "\n",
    "\n",
    "layout_a_clicks = [28, 32, 33, 29, 31, 34, 30, 35, 36, 37]\n",
    "layout_b_clicks = [40, 41, 38, 42, 39, 44, 43, 41, 45, 47]\n",
    "\n",
    "#Calculate the sample means and standard deviations for both layouts\n",
    "\n",
    "mean_a= np.mean(layout_a_clicks)\n",
    "mean_b=np.mean(layout_b_clicks)\n",
    "std_a= np.std(layout_a_clicks)\n",
    "std_b= np.std(layout_b_clicks)\n",
    "n_a = len(layout_a_clicks)\n",
    "n_b=len(layout_b_clicks)\n",
    "\n",
    "\n",
    "\n",
    "# t stats\n",
    "\n",
    "t_stat= (mean_a - mean_b) / np.sqrt((std_a**2 / n_a) + (std_b**2 / n_b))\n",
    "\n",
    "#degree of freedom\n",
    "\n",
    "df= ((std_a**2 / n_a) + (std_b**2 / n_b))**2 / (((std_a**2 / n_a)**2 / (n_a - 1)) + ((std_b**2 / n_b)**2 / (n_b - 1)))\n",
    "\n",
    "# p value\n",
    "p_value = 2 * stats.t.cdf(-abs(t_stat), df)\n",
    "\n",
    "\n",
    "alpha= 0.05\n",
    "\n",
    "if p_value < alpha:\n",
    "    print('reject the null hypothesis')\n",
    "    \n",
    "else:\n",
    "    print('failed to reject the null hypothesis')\n",
    "    \n"
   ]
  },
  {
   "cell_type": "code",
   "execution_count": 4,
   "id": "7450ea1f-8046-44bf-b2ed-5dd076cfa2e3",
   "metadata": {},
   "outputs": [
    {
     "name": "stdout",
     "output_type": "stream",
     "text": [
      "Reject the null hypothesis. .\n"
     ]
    }
   ],
   "source": [
    "#16. A pharmaceutical company wants to determine if a new drug is more effective than an existing drug in \n",
    "#reducing cholesterol levels. Create a program to analyze the clinical trial data and calculate the t- statistic and \n",
    "#p-value for the treatment effect.\n",
    "\n",
    "#Use the following data of cholestrol level:\n",
    "\n",
    "# existing_drug_levels = [180, 182, 175, 185, 178, 176, 172, 184, 179, 183]\n",
    "# new_drug_levels = [170, 172, 165, 168, 175, 173, 170, 178, 172, 176]\n",
    "\n",
    "import numpy as np\n",
    "from scipy import stats\n",
    "\n",
    "\n",
    "\n",
    "\n",
    "#Define the null and alternative hypotheses\n",
    "\n",
    "#HO- new drug doesn't more effective than an existing drug\n",
    "#HA- new drug is more effective than an existing drug\n",
    "\n",
    "existing_drug_levels = [180, 182, 175, 185, 178, 176, 172, 184, 179, 183]\n",
    "new_drug_levels =[170, 172, 165, 168, 175, 173, 170, 178, 172, 176]\n",
    "\n",
    "\n",
    "#Calculate the mean,number of samples  and standard deviation for both groups\n",
    "\n",
    "\n",
    "mean_existing= np.mean(existing_drug_levels)\n",
    "mean_new= np.mean(new_drug_levels)\n",
    "std_existing= np.std(existing_drug_levels)\n",
    "std_new= np.std(new_drug_levels)\n",
    "n_existing= len(existing_drug_levels)\n",
    "n_new= len(new_drug_levels)\n",
    "\n",
    "\n",
    "#calculate t stats\n",
    "\n",
    "se_diff= np.sqrt((std_existing**2 / n_existing) + (std_new**2 / n_new ))\n",
    "\n",
    "t_stat= (mean_existing -mean_new) / se_diff\n",
    "\n",
    "df= n_existing + n_new - 2\n",
    "\n",
    "\n",
    "#p value\n",
    "p_value =stats.t.sf(np.abs(t_stat), df=df) *2  #two tailed test\n",
    "\n",
    "\n",
    "alpha = 0.05\n",
    "if p_value < alpha:\n",
    "    print(\"Reject the null hypothesis. .\")\n",
    "else:\n",
    "    print(\"Fail to reject the null hypothesis.\")"
   ]
  },
  {
   "cell_type": "code",
   "execution_count": 7,
   "id": "a5acc6c3-2fd0-416f-b80d-1ca802600e00",
   "metadata": {},
   "outputs": [
    {
     "name": "stdout",
     "output_type": "stream",
     "text": [
      "Reject the null hypothesis\n"
     ]
    }
   ],
   "source": [
    "#17. A school district introduces an educational intervention program to improve math scores. Write a Python \n",
    "#function to analyze pre- and post-intervention test scores, calculating the t-statistic and p-value to \n",
    "#determine if the intervention had a significant impact.\n",
    "# Use the following data of test score:\n",
    "#  pre_intervention_scores = [80, 85, 90, 75, 88, 82, 92, 78, 85, 87]\n",
    "# post_intervention_scores = [90, 92, 88, 92, 95, 91, 96, 93, 89, 93]\n",
    "\n",
    "import numpy as np\n",
    "from scipy import stats\n",
    "\n",
    "#Define the null and alternative hypotheses\n",
    "\n",
    "#HO- intervention hadn't a significant impact\n",
    "#HA- intervention had a significant impact\n",
    "\n",
    "\n",
    "pre_intervention_scores = np.array([80, 85, 90, 75, 88, 82, 92, 78, 85, 87])\n",
    "post_intervention_scores = np.array([90, 92, 88, 92, 95, 91, 96, 93, 89, 93])\n",
    "\n",
    "#Calculate the differences\n",
    "\n",
    "diff= post_intervention_scores - pre_intervention_scores\n",
    "\n",
    "#Calculate the mean , number of samples and standard deviation of the difference\n",
    "\n",
    "mean_diff= np.mean(diff)\n",
    "mean_std= np.std(diff)\n",
    "n=len(diff)\n",
    "\n",
    "#Calculate the standard error of the mean difference\n",
    "\n",
    "se_diff= mean_std / np.sqrt(n)\n",
    "\n",
    "\n",
    "# t stat\n",
    "\n",
    "t_stat= mean_diff / se_diff\n",
    "\n",
    "# degree of freedom\n",
    "\n",
    "df= n-1\n",
    "\n",
    "# p value\n",
    "\n",
    "p_value= stats.t.sf(np.abs(t_stat), df) * 2\n",
    "\n",
    "\n",
    "alpha = 0.05\n",
    "if p_value < alpha:\n",
    "        print(\"Reject the null hypothesis\")\n",
    "else:\n",
    "        print(\"Fail to reject the null hypothesis.\")\n"
   ]
  },
  {
   "cell_type": "code",
   "execution_count": 11,
   "id": "55684524-1c9c-4222-b490-7ca4cfc3e222",
   "metadata": {},
   "outputs": [
    {
     "name": "stdout",
     "output_type": "stream",
     "text": [
      "failed to reject the null hypothesis\n"
     ]
    }
   ],
   "source": [
    "#18.An HR department wants to investigate if there's a gender-based salary gap within the company. Develop \n",
    "# a program to analyze salary data, calculate the t-statistic, and determine if there's a statistically \n",
    "# significant difference between the average salaries of male and female employees.\n",
    "# Use the below code to generate synthetic data:\n",
    "# Generate synthetic salary data for male and female employees\n",
    "# np.random.seed(0)  # For reproducibility\n",
    "# male_salaries = np.random.normal(loc=50000, scale=10000, size=20)\n",
    "# female_salaries = np.random.normal(loc=55000, scale=9000, size=20)\n",
    "\n",
    "\n",
    "import numpy as np\n",
    "from scipy import stats\n",
    "\n",
    "\n",
    "#Define the null and alternative hypotheses\n",
    "\n",
    "#HO- doesn't have gender-based salary gap within the company\n",
    "#HA- gender-based salary gap within the company\n",
    "\n",
    "np.random.seed(0)\n",
    "male_salaries = np.random.normal(loc=50000, scale=10000, size=20)\n",
    "female_salaries = np.random.normal(loc=55000, scale=9000, size=20)\n",
    "\n",
    "\n",
    "\n",
    "#Calculate the mean standard deviation and number of samples for both groups\n",
    "mean_male= np.mean(male_salaries)\n",
    "mean_female= np.mean(female_salaries)\n",
    "std_male= np.std(male_salaries)\n",
    "std_female= np.std(female_salaries)\n",
    "n_male= len(male_salaries)\n",
    "n_female= len(female_salaries)\n",
    "\n",
    "\n",
    "se_diff= np.sqrt((std_male**2 / n_male)+ (std_female **2 / n_female))\n",
    "\n",
    "\n",
    "#Calculate the t stat\n",
    "\n",
    "t_stat= (mean_male - mean_female)  / se_diff\n",
    "\n",
    "#Calculate the degrees of freedom using Welch's approximation\n",
    "df = ((std_male**2 / n_male) + (std_female**2 / n_female))**2 / \\\n",
    "    (((std_male**2 / n_male)**2 / (n_male - 1)) + ((std_female**2 / n_female)**2 / (n_female - 1)))\n",
    "\n",
    "\n",
    "#p value\n",
    "\n",
    "p_value= stats.t.sf(np.abs(t_stat), df)*2\n",
    "\n",
    "alpha= 0.05\n",
    "\n",
    "if p_value < alpha:\n",
    "    print('reject the null hypothesis')\n",
    "else:\n",
    "    print('failed to reject the null hypothesis')"
   ]
  },
  {
   "cell_type": "code",
   "execution_count": 24,
   "id": "7af27db2-8069-4166-a119-db54c49d4441",
   "metadata": {},
   "outputs": [
    {
     "name": "stdout",
     "output_type": "stream",
     "text": [
      "reject the null hypothesis\n",
      "conclution: significant difference in quality between the two versions\n"
     ]
    }
   ],
   "source": [
    "#19.A manufacturer produces two different versions of a product and wants to compare their quality scores. \n",
    "#Create a Python function to analyze quality assessment data, calculate the t-statistic, and decide \n",
    "#whether there's a significant difference in quality between the two versions.\n",
    "# Use the following data:\n",
    "\n",
    "version1_scores = [85, 88, 82, 89, 87, 84, 90, 88, 85, 86, 91, 83, 87, 84, 89, 86, 84, 88, 85, 86, 89, 90, 87, 88, 85]\n",
    "version2_scores = [80, 78, 83, 81, 79, 82, 76, 80, 78, 81, 77, 82, 80, 79, 82, 79, 80, 81, 79, 82, 79, 78, 80, 81, 82]\n",
    "\n",
    "\n",
    "import numpy as np\n",
    "from scipy import stats\n",
    "\n",
    "#Define the null and alternative hypotheses\n",
    "\n",
    "#HO- DOESN'T HAVE significant difference in quality between the two versions\n",
    "#HA- significant difference in quality between the two versions\n",
    "\n",
    "#Calculate the mean, number of samples and standard deviation for both groups\n",
    "\n",
    "\n",
    "mean_v1=np.mean(version1_scores)\n",
    "mean_v2=np.mean(version2_scores)\n",
    "std_v1= np.std(version1_scores)\n",
    "std_v2=np.std(version2_scores)\n",
    "n_v1=len(version1_scores)\n",
    "n_v2=len(version2_scores)\n",
    "\n",
    "\n",
    "se_diff= np.sqrt((std_v1**2 /n_v1) + (std_v2 **2 /n_v2))\n",
    "\n",
    "\n",
    "\n",
    "# t stat\n",
    "\n",
    "t_stat= (mean_v1-mean_v2) / se_diff\n",
    "\n",
    "\n",
    "# Calculate the degrees of freedom using Welch's approximation\n",
    "\n",
    "\n",
    "df = ((std_v1**2 / n_v1) + (std_v2**2 / n_v2))**2 / \\\n",
    "         (((std_v1**2 / n_v1)**2 / (n_v1 - 1)) + ((std_v2**2 / n_v2)**2 / (n_v2 - 1)))\n",
    "\n",
    "#p-value\n",
    "\n",
    "\n",
    "p_value= stats.t.sf(np.abs(t_stat), df)* 2\n",
    "\n",
    "aplha= 0.05\n",
    "\n",
    "if p_value < alpha:\n",
    "    print('reject the null hypothesis')\n",
    "else:\n",
    "    print('failed to reject the null hypothesis')\n",
    "    \n",
    "print('conclution: significant difference in quality between the two versions')"
   ]
  },
  {
   "cell_type": "code",
   "execution_count": 4,
   "id": "82e716f5-924f-481e-a3d5-5536af8be228",
   "metadata": {},
   "outputs": [
    {
     "name": "stdout",
     "output_type": "stream",
     "text": [
      "T-statistic: 5.480077554195743\n",
      "P-value: 8.895290509945655e-07\n",
      "There is no statistically significant difference in customer satisfaction between the branches\n"
     ]
    }
   ],
   "source": [
    "#20.A restaurant chain collects customer satisfaction scores for two different branches. Write a program to \n",
    "# analyze the scores, calculate the t-statistic, and determine if there's a statistically significant difference in \n",
    "# customer satisfaction between the branches.\n",
    "# Use the below data of scores:\n",
    "\n",
    "branch_a_scores = [4, 5, 3, 4, 5, 4, 5, 3, 4, 4, 5, 4, 4, 3, 4, 5, 5, 4, 3, 4, 5, 4, 3, 5, 4, 4, 5, 3, 4, 5, 4]\n",
    "branch_b_scores = [3, 4, 2, 3, 4, 3, 4, 2, 3, 3, 4, 3, 3, 2, 3, 4, 4, 3, 2, 3, 4, 3, 2, 4, 3, 3, 4, 2, 3, 4, 3]\n",
    "\n",
    "\n",
    "import numpy as np\n",
    "from scipy import stats\n",
    "\n",
    "# t test\n",
    "\n",
    "t_stat, p_value = stats.ttest_ind(branch_a_scores,branch_b_scores)\n",
    "\n",
    "\n",
    "print(f\"T-statistic: {t_stat}\")\n",
    "print(f\"P-value: {p_value}\")\n",
    "\n",
    "alpha= 0.05\n",
    "\n",
    "if p_value < t_stat:\n",
    "    print('There is a statistically significant difference in customer satisfaction between the branches.')\n",
    "else:\n",
    "    print('There is no statistically significant difference in customer satisfaction between the branches')\n",
    "\n"
   ]
  },
  {
   "cell_type": "code",
   "execution_count": 20,
   "id": "e2979d3b-fe95-4ea7-860b-2d102bfa6c0c",
   "metadata": {},
   "outputs": [
    {
     "name": "stdout",
     "output_type": "stream",
     "text": [
      "There is a statistically significant association between age groups and voter preferences\n"
     ]
    }
   ],
   "source": [
    "#21.A political analyst wants to determine if there is a significant association between age groups and voter \n",
    "#preferences (Candidate A or Candidate B). They collect data from a sample of 500 voters and classify \n",
    "#them into different age groups and candidate preferences. Perform a Chi-Square test to determine if \n",
    "#there is a significant association between age groups and voter preferences.\n",
    "# Use the below code to generate data:\n",
    " \n",
    "np.random.seed(0)\n",
    "age_groups = np.random.choice(['18-30', '31-50', '51+', '51+'], size=30)\n",
    "voter_preferences = np.random.choice(['Candidate A', 'Candidate B'], size=30)\n",
    "\n",
    "\n",
    "\n",
    "import numpy as np\n",
    "import pandas as pd\n",
    "from scipy.stats import chi2_contingency\n",
    "\n",
    "#Create a DataFrame\n",
    "data= pd.DataFrame({'Age Groups': age_groups, 'Voter Preferences': voter_preferences })\n",
    "\n",
    "\n",
    "## Create a contingency table\n",
    "\n",
    "contingency_table = pd.crosstab(data['Age Groups'], data['Voter Preferences'])\n",
    "\n",
    "\n",
    "#Chi-Square test\n",
    "\n",
    "chi2_stat, p_value, dof, expected= chi2_contingency(contingency_table)\n",
    "\n",
    "# Determine if the association is statistically significant\n",
    "\n",
    "alpha= 0.05\n",
    "if p_value < chi2_stat:\n",
    "    print('There is a statistically significant association between age groups and voter preferences')\n",
    "else:\n",
    "    print('There is no statistically significant  association betweena age groups and voter preferences')"
   ]
  },
  {
   "cell_type": "code",
   "execution_count": 32,
   "id": "0371ff0b-31bc-4515-8403-dc4c9fef9f29",
   "metadata": {},
   "outputs": [
    {
     "name": "stdout",
     "output_type": "stream",
     "text": [
      "Chi-Square Statistic: 27.777056277056275\n",
      "P-value: 0.00010349448486004387\n",
      "Degrees of Freedom: 6\n",
      "Expected Frequencies Table:\n",
      "[[34.14634146 34.14634146 37.56097561 34.14634146]\n",
      " [36.58536585 36.58536585 40.24390244 36.58536585]\n",
      " [29.26829268 29.26829268 32.19512195 29.26829268]]\n",
      "there is a significant relationship between product satisfaction levels (Satisfied, Neutral, Dissatisfied) and the region where customers are located (East, West, North, South)\n"
     ]
    }
   ],
   "source": [
    "#22. A company conducted a customer satisfaction survey to determine if there is a significant relationship \n",
    "#between product satisfaction levels (Satisfied, Neutral, Dissatisfied) and the region where customers are \n",
    "#located (East, West, North, South). The survey data is summarized in a contingency table. Conduct a Chi\n",
    "#Square test to determine if there is a significant relationship between product satisfaction levels and \n",
    "#customer regions.\n",
    "\n",
    "#Sample data: Product satisfaction levels (rows) vs. Customer regions (columns)\n",
    "data = np.array([[50, 30, 40, 20], [30, 40, 30, 50], [20, 30, 40, 30]])\n",
    "\n",
    "import numpy as np\n",
    "from scipy.stats import chi2_contingency\n",
    "                \n",
    "\n",
    "#Perform the Chi-Square test\n",
    "\n",
    "chi2_stat,p_value, dof, expected= chi2_contingency(data)\n",
    "\n",
    "print(f\"Chi-Square Statistic: {chi2_stat}\")\n",
    "print(f\"P-value: {p_value}\")\n",
    "print(f\"Degrees of Freedom: {dof}\")\n",
    "print(\"Expected Frequencies Table:\")\n",
    "print(expected)\n",
    "\n",
    "\n",
    "\n",
    "#Determine if there is a significant relationship\n",
    "\n",
    "alpha= 0.05\n",
    "\n",
    "if p_value < chi2_stat:\n",
    "    print('there is a significant relationship between product satisfaction levels (Satisfied, Neutral, Dissatisfied) and the region where customers are located (East, West, North, South)')\n",
    "\n",
    "else:\n",
    "    print('there is no significant relationship between product satisfaction levels (Satisfied, Neutral, Dissatisfied) and the region where customers are located (East, West, North, South)')"
   ]
  },
  {
   "cell_type": "code",
   "execution_count": 38,
   "id": "5a629e21-d5bb-4998-8d94-353999226efd",
   "metadata": {},
   "outputs": [
    {
     "name": "stdout",
     "output_type": "stream",
     "text": [
      "Chi-Square Statistic: 22.161728395061726\n",
      "P-value: 0.00018609719479882557\n",
      "Degrees of Freedom: 4\n",
      "Expected Frequencies Table:\n",
      "[[34.14634146 34.14634146 37.56097561 34.14634146]\n",
      " [36.58536585 36.58536585 40.24390244 36.58536585]\n",
      " [29.26829268 29.26829268 32.19512195 29.26829268]]\n",
      "There is a significant difference between job performance levels before and after the training\n"
     ]
    }
   ],
   "source": [
    "#23. A company implemented an employee training program to improve job performance (Effective, Neutral, \n",
    "#Ineffective). After the training, they collected data from a sample of employees and classified them based \n",
    "#on their job performance before and after the training. Perform a Chi-Square test to determine if there is a \n",
    "#significant difference between job performance levels before and after the training.\n",
    "\n",
    "# Sample data:Job performance levels before (rows) and after (columns) training\n",
    "\n",
    "\n",
    "\n",
    "import numpy as np\n",
    "from scipy.stats import chi2_contingency\n",
    "\n",
    " \n",
    "data = np.array([[50, 30, 20], [30, 40, 30], [20, 30, 40]])\n",
    "#Perform the Chi-Square test\n",
    "\n",
    "chi2_stat, p_value, dof, ecpected= chi2_contingency(data)\n",
    "\n",
    "print(f\"Chi-Square Statistic: {chi2_stat}\")\n",
    "print(f\"P-value: {p_value}\")\n",
    "print(f\"Degrees of Freedom: {dof}\")\n",
    "print(\"Expected Frequencies Table:\")\n",
    "print(expected)\n",
    "\n",
    "\n",
    "#determine if there is a significant difference between job performance levels before and after the training.\n",
    "\n",
    "alpha= 0.05\n",
    "\n",
    "if p_value < chi2_stat:\n",
    "    print('There is a significant difference between job performance levels before and after the training')\n",
    "else:\n",
    "    print('There is no significant difference between job performance levels before and after the training')\n"
   ]
  },
  {
   "cell_type": "code",
   "execution_count": 23,
   "id": "15ab3383-ccf1-4c86-895a-43e67b8bcca8",
   "metadata": {},
   "outputs": [
    {
     "name": "stdout",
     "output_type": "stream",
     "text": [
      "F-statistic: 27.03556231003039\n",
      "P-value: 3.5786328857349003e-07\n",
      "there is a significant dfference in customer satisfaction scores\n"
     ]
    }
   ],
   "source": [
    "#24.A company produces three different versions of a product: Standard, Premium, and Deluxe. The \n",
    "#company wants to determine if there is a significant difference in customer satisfaction scores among the \n",
    "#three product versions. They conducted a survey and collected customer satisfaction scores for each \n",
    "#version from a random sample of customers. Perform an ANOVA test to determine if there is a significant \n",
    "#difference in customer satisfaction scores.\n",
    "# Use the following data:\n",
    "# ```python\n",
    "# Sample data: Customer satisfaction scores for each product version\n",
    "standard_scores = [80, 85, 90, 78, 88, 82, 92, 78, 85, 87]\n",
    "premium_scores = [90, 92, 88, 92, 95, 91, 96, 93, 89, 93]\n",
    "deluxe_scores = [95, 98, 92, 97, 96, 94, 98, 97, 92, 99]\n",
    "\n",
    "\n",
    "\n",
    "import numpy as np\n",
    "from scipy import stats\n",
    "\n",
    "\n",
    "\n",
    "#perform Anova test\n",
    "\n",
    "\n",
    "f_statistic, p_value = stats.f_oneway(standard_scores, premium_scores, deluxe_scores)\n",
    "\n",
    "\n",
    "print(f\"F-statistic: {f_statistic}\")\n",
    "print(f\"P-value: {p_value}\")\n",
    "\n",
    "if p_value < f_statistic:\n",
    "    print('there is a significant dfference in customer satisfaction scores')\n",
    "else:\n",
    "    print('there is no significant dfference in customer satisfaction scores')\n"
   ]
  },
  {
   "cell_type": "code",
   "execution_count": null,
   "id": "dde07bb4-84ee-44c1-9cae-a9b6e8ae93bb",
   "metadata": {},
   "outputs": [],
   "source": []
  }
 ],
 "metadata": {
  "kernelspec": {
   "display_name": "Python 3 (ipykernel)",
   "language": "python",
   "name": "python3"
  },
  "language_info": {
   "codemirror_mode": {
    "name": "ipython",
    "version": 3
   },
   "file_extension": ".py",
   "mimetype": "text/x-python",
   "name": "python",
   "nbconvert_exporter": "python",
   "pygments_lexer": "ipython3",
   "version": "3.10.8"
  }
 },
 "nbformat": 4,
 "nbformat_minor": 5
}
